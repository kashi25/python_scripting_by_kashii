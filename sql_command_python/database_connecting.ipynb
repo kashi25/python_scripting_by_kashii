{
 "cells": [
  {
   "cell_type": "code",
   "execution_count": 4,
   "metadata": {},
   "outputs": [
    {
     "ename": "OperationalError",
     "evalue": "table kashi_table already exists",
     "output_type": "error",
     "traceback": [
      "\u001b[1;31m---------------------------------------------------------------------------\u001b[0m",
      "\u001b[1;31mOperationalError\u001b[0m                          Traceback (most recent call last)",
      "\u001b[1;32m<ipython-input-4-4c76986af136>\u001b[0m in \u001b[0;36m<module>\u001b[1;34m\u001b[0m\n\u001b[0;32m      3\u001b[0m \u001b[0mtable\u001b[0m \u001b[1;33m=\u001b[0m \u001b[1;34m'CREATE TABLE kashi_table(Id INTEGER PRIMARY KEY, name TEXT, surname TEXT)'\u001b[0m\u001b[1;33m\u001b[0m\u001b[1;33m\u001b[0m\u001b[0m\n\u001b[0;32m      4\u001b[0m \u001b[0mcursor\u001b[0m \u001b[1;33m=\u001b[0m \u001b[0mconnection\u001b[0m\u001b[1;33m.\u001b[0m\u001b[0mcursor\u001b[0m\u001b[1;33m(\u001b[0m\u001b[1;33m)\u001b[0m\u001b[1;33m\u001b[0m\u001b[1;33m\u001b[0m\u001b[0m\n\u001b[1;32m----> 5\u001b[1;33m \u001b[0mcursor\u001b[0m\u001b[1;33m.\u001b[0m\u001b[0mexecute\u001b[0m\u001b[1;33m(\u001b[0m\u001b[0mtable\u001b[0m\u001b[1;33m)\u001b[0m\u001b[1;33m\u001b[0m\u001b[1;33m\u001b[0m\u001b[0m\n\u001b[0m\u001b[0;32m      6\u001b[0m \u001b[0mconnection\u001b[0m\u001b[1;33m.\u001b[0m\u001b[0mcommit\u001b[0m\u001b[1;33m(\u001b[0m\u001b[1;33m)\u001b[0m\u001b[1;33m\u001b[0m\u001b[1;33m\u001b[0m\u001b[0m\n",
      "\u001b[1;31mOperationalError\u001b[0m: table kashi_table already exists"
     ]
    }
   ],
   "source": [
    "import sqlite3\n",
    "connection = sqlite3.connect('Second.db')\n",
    "table = 'CREATE TABLE kashi_table(Id INTEGER PRIMARY KEY, name TEXT, surname TEXT)'\n",
    "cursor = connection.cursor()\n",
    "cursor.execute(table)\n",
    "connection.commit()"
   ]
  },
  {
   "cell_type": "code",
   "execution_count": null,
   "metadata": {},
   "outputs": [
    {
     "data": {
      "text/plain": [
       "[['Stephen', 'Moore'],\n",
       " ['Leslie', 'Smith'],\n",
       " ['Megan', 'Barr'],\n",
       " ['Brandon', 'Wilson'],\n",
       " ['Grace', 'Rodriguez'],\n",
       " ['Amanda', 'Miller'],\n",
       " ['Patrick', 'Martinez'],\n",
       " ['Brandi', 'Robinson'],\n",
       " ['Charles', 'Castro'],\n",
       " ['Matthew', 'Frost'],\n",
       " ['Matthew', 'Sanchez'],\n",
       " ['Joseph', 'Hayden'],\n",
       " ['Jaime', 'Cross'],\n",
       " ['Eric', 'Guerrero'],\n",
       " ['Laurie', 'Hunt'],\n",
       " ['Christopher', 'Mitchell'],\n",
       " ['Ricardo', 'Downs'],\n",
       " ['Matthew', 'Pratt'],\n",
       " ['Christopher', 'Williams'],\n",
       " ['Erik', 'Cole'],\n",
       " ['Marilyn', 'Nichols'],\n",
       " ['Vanessa', 'Martinez'],\n",
       " ['Jade', 'Pratt'],\n",
       " ['Jeffrey', 'Smith'],\n",
       " ['Jeffrey', 'Conrad'],\n",
       " ['Vincent', 'Kramer'],\n",
       " ['Julie', 'Butler'],\n",
       " ['Julie', 'Kemp'],\n",
       " ['Kristin', 'Brooks'],\n",
       " ['Chelsea', 'Sharp'],\n",
       " ['Jared', 'Hess'],\n",
       " ['Christopher', 'Lewis'],\n",
       " ['Caitlin', 'Glover'],\n",
       " ['Brian', 'Gomez'],\n",
       " ['Kelly', 'Harris'],\n",
       " ['Douglas', 'Smith'],\n",
       " ['Taylor', 'Barnett'],\n",
       " ['Chelsea', 'Edwards'],\n",
       " ['Jeffery', 'Martinez'],\n",
       " ['Sherry', 'Peters'],\n",
       " ['Keith', 'George'],\n",
       " ['Austin', 'Reese'],\n",
       " ['Daniel', 'Thompson'],\n",
       " ['Jacob', 'Brown'],\n",
       " ['Laurie', 'Cobb'],\n",
       " ['David', 'Brennan'],\n",
       " ['John', 'Torres'],\n",
       " ['Sandra', 'Chan'],\n",
       " ['Cheryl', 'Sparks'],\n",
       " ['Wesley', 'Cox'],\n",
       " ['Amy', 'Randolph'],\n",
       " ['Jordan', 'Thomas'],\n",
       " ['Robert', 'Hall'],\n",
       " ['Erica', 'Gonzalez'],\n",
       " ['Henry', 'Barton'],\n",
       " ['Christopher', 'Shepard'],\n",
       " ['Wendy', 'Ryan'],\n",
       " ['Bryce', 'Nolan'],\n",
       " ['Christina', 'Macias'],\n",
       " ['Jeanne', 'Green'],\n",
       " ['Tanya', 'Doyle'],\n",
       " ['Maria', 'Stanton'],\n",
       " ['Matthew', 'Ryan'],\n",
       " ['Wendy', 'Smith'],\n",
       " ['Eddie', 'Hoffman'],\n",
       " ['Anna', 'Thompson'],\n",
       " ['Katherine', 'Jacobs'],\n",
       " ['Charles', 'Leonard'],\n",
       " ['Jay', 'Williams'],\n",
       " ['Margaret', 'Fields'],\n",
       " ['Brittany', 'Miles'],\n",
       " ['Vanessa', 'Oconnor'],\n",
       " ['Sandra', 'Hernandez'],\n",
       " ['Brenda', 'Phillips'],\n",
       " ['Adam', 'Hudson'],\n",
       " ['Anthony', 'Vincent'],\n",
       " ['Jessica', 'Rodriguez'],\n",
       " ['Tony', 'Collins'],\n",
       " ['Elaine', 'George'],\n",
       " ['Sheila', 'Irwin'],\n",
       " ['Robert', 'Thomas'],\n",
       " ['Brian', 'Garcia'],\n",
       " ['Kimberly', 'Jones'],\n",
       " ['Lisa', 'Davis'],\n",
       " ['Paul', 'Morrison'],\n",
       " ['Charles', 'Murphy'],\n",
       " ['Kayla', 'Clark'],\n",
       " ['Kevin', 'Perez'],\n",
       " ['Renee', 'Castro'],\n",
       " ['Trevor', 'Johnson'],\n",
       " ['Brittney', 'Hodge'],\n",
       " ['Cheryl', 'Clark'],\n",
       " ['Alisha', 'Torres'],\n",
       " ['Todd', 'Perkins'],\n",
       " ['Michael', 'Rodriguez'],\n",
       " ['John', 'Wright'],\n",
       " ['Justin', 'Morris']]"
      ]
     },
     "execution_count": 3,
     "metadata": {},
     "output_type": "execute_result"
    }
   ],
   "source": [
    "from faker import Faker\n",
    "\n",
    "fake = Faker()\n",
    "names = [fake.name().split() for i in range(100)]\n",
    "names = [name for name in names if len(name) == 2]\n",
    "names"
   ]
  },
  {
   "cell_type": "code",
   "execution_count": 5,
   "metadata": {},
   "outputs": [],
   "source": [
    "import sqlite3\n",
    "connection = sqlite3.connect('Second.db')"
   ]
  },
  {
   "cell_type": "code",
   "execution_count": 6,
   "metadata": {},
   "outputs": [],
   "source": [
    "insert_query = 'INSERT INTO kashi_table(name, surname) VALUES(?, ?)'\n",
    "cursor = connection.cursor()\n",
    "for name in names:\n",
    "    cursor.execute(insert_query, name)\n",
    "connection.commit()\n",
    "    "
   ]
  },
  {
   "cell_type": "code",
   "execution_count": null,
   "metadata": {},
   "outputs": [],
   "source": []
  }
 ],
 "metadata": {
  "kernelspec": {
   "display_name": "Python 3",
   "language": "python",
   "name": "python3"
  },
  "language_info": {
   "codemirror_mode": {
    "name": "ipython",
    "version": 3
   },
   "file_extension": ".py",
   "mimetype": "text/x-python",
   "name": "python",
   "nbconvert_exporter": "python",
   "pygments_lexer": "ipython3",
   "version": "3.7.4"
  },
  "orig_nbformat": 4
 },
 "nbformat": 4,
 "nbformat_minor": 2
}
